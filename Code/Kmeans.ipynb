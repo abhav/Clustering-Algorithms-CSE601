{
 "cells": [
  {
   "cell_type": "code",
   "execution_count": 224,
   "metadata": {},
   "outputs": [],
   "source": [
    "UBIT = 'tanmaypr';\n",
    "from copy import deepcopy\n",
    "import numpy as np\n",
    "import random\n",
    "from random import randint\n",
    "np.random.seed(sum([ord(c) for c in UBIT])) ##used for randomly selecting initial cluster centers for kmeans\n",
    "import pandas as pd\n",
    "from matplotlib import pyplot as plt\n",
    "from sklearn.datasets import make_blobs\n",
    "# load decomposition to do PCA analysis with sklearn\n",
    "from sklearn.datasets import load_digits\n",
    "from sklearn.mixture.base import BaseMixture\n",
    "from sklearn.cluster import KMeans\n",
    "from sklearn.decomposition import PCA\n",
    "from sklearn.preprocessing import normalize\n"
   ]
  },
  {
   "cell_type": "code",
   "execution_count": 225,
   "metadata": {},
   "outputs": [],
   "source": [
    "def dist(a, b,axis):# function to calculate euclidean distance\n",
    "    return np.linalg.norm(a - b, axis=axis)"
   ]
  },
  {
   "cell_type": "code",
   "execution_count": 226,
   "metadata": {},
   "outputs": [],
   "source": [
    "def myKMean(n,z1,rows,max_iter):\n",
    "    z=z1[:,2:]\n",
    "    labels=z[:,0]\n",
    "    x=np.array\n",
    "    x=z\n",
    "    x = (x-x.min())/(x.max()-x.min())\n",
    "    number_of_clusters=n\n",
    "    center_of_clusters=np.array\n",
    "    center_of_clusters=x[rows,:]\n",
    "    c_old=np.zeros(center_of_clusters.shape)\n",
    "    error = dist(center_of_clusters, c_old,None)    \n",
    "    distance_from_centroid=[]\n",
    "    s=0\n",
    "    while error!=0:\n",
    "        s+=1\n",
    "        clusters=[]\n",
    "        for i in range(len(x)):\n",
    "            distance_from_centroid=[]\n",
    "            for j in range(number_of_clusters):\n",
    "                #print(dist(x[i],center_of_clusters[j],axis=None))\n",
    "                distance_from_centroid.append(dist(x[i],center_of_clusters[j],axis=None))\n",
    "            cluster=distance_from_centroid.index(min(distance_from_centroid))\n",
    "            clusters.append(cluster)\n",
    "       \n",
    "        c_old=deepcopy(center_of_clusters)\n",
    "        for i in range(number_of_clusters):\n",
    "            points=[]\n",
    "            for j in range(len(x)):\n",
    "                if clusters[j]==i:\n",
    "                    points.append(x[j,:])\n",
    "                    labels[j]=labels[i]  \n",
    "            center_of_clusters[i] = np.mean(points, axis=0)\n",
    "        \n",
    "        error = dist(center_of_clusters, c_old, None) \n",
    "        print(\"error in iteration \"+str(s)+\" = \"+str(error))\n",
    "         \n",
    "        if(s==max_iter):\n",
    "            break\n",
    "    return center_of_clusters,clusters,labels,x  "
   ]
  },
  {
   "cell_type": "code",
   "execution_count": 227,
   "metadata": {},
   "outputs": [],
   "source": [
    "def listToList(lst): #function to make list of list to list\n",
    "    return list(map(lambda el:[el], lst)) "
   ]
  },
  {
   "cell_type": "code",
   "execution_count": 228,
   "metadata": {},
   "outputs": [],
   "source": [
    "def Unique_Clusters(clusters):#function to get the unique clusters from the total list of clusters.\n",
    "    temp=set()\n",
    "    unique_clusters=[]\n",
    "    for i in range(len(clusters)):\n",
    "        if(clusters[i] in temp):\n",
    "            continue\n",
    "        else:\n",
    "            temp.add(clusters[i])\n",
    "            unique_clusters.append(clusters[i])\n",
    "    return unique_clusters"
   ]
  },
  {
   "cell_type": "code",
   "execution_count": 235,
   "metadata": {},
   "outputs": [],
   "source": [
    "def PCA_Plot(clusters1,input_file,unique_clusters,mystr):\n",
    "    pca_data = PCA(n_components = 2).fit_transform(input_file)\n",
    "    finalDf = np.concatenate((pca_data, clusters1), axis = 1)\n",
    "    finalDf = pd.DataFrame({'Component1': finalDf[:, 0], 'Component2': finalDf[:, 1], 'Target': finalDf[:, 2]})\n",
    "    fig = plt.figure(figsize = (8,8))\n",
    "    ax = fig.add_subplot(1,1,1) \n",
    "    ax.set_xlabel('Principal Component 1', fontsize = 15)\n",
    "    ax.set_ylabel('Principal Component 2', fontsize = 15)\n",
    "    ax.set_title(mystr, fontsize = 20)\n",
    "    targets = unique_clusters\n",
    "    colors=[]\n",
    "    for i in range(len(unique_clusters)):\n",
    "        colors.append('#%06X' % randint(0, 0xFFFFFF))\n",
    "    for target, color in zip(targets,colors):\n",
    "        indicesToKeep = finalDf['Target'] == target\n",
    "        ax.scatter(finalDf.loc[indicesToKeep, 'Component1']\n",
    "                   , finalDf.loc[indicesToKeep, 'Component2']\n",
    "                   , c = color\n",
    "                   , s = 50)\n",
    "    ax.legend(targets)\n",
    "    ax.grid()"
   ]
  },
  {
   "cell_type": "code",
   "execution_count": 230,
   "metadata": {},
   "outputs": [],
   "source": [
    "def JaccardRand(cluster, assigned_cluster):\n",
    "    ground_truth_matrix = np.zeros((len(assigned_cluster),len(assigned_cluster)))\n",
    "    incidence_matrix = np.zeros((len(assigned_cluster),len(assigned_cluster)))\n",
    "\n",
    "    for i in range(len(assigned_cluster)):\n",
    "        for j in range(len(assigned_cluster)):\n",
    "            ground_truth_matrix[i][j] = 1 if (assigned_cluster[i]==assigned_cluster[j]) else 0\n",
    "            incidence_matrix[i][j] = 1 if (cluster[i]==cluster[j]) else 0\n",
    "            \n",
    "    m_1_1 = m_0_0 = m_1_0 = m_0_1 = 0.0\n",
    "    for i in range(len(ground_truth_matrix)):\n",
    "        for j in range(len(ground_truth_matrix)):\n",
    "            if ground_truth_matrix[i][j] == incidence_matrix[i][j]:\n",
    "                if ground_truth_matrix[i][j] == 1:\n",
    "                    m_1_1 += 1\n",
    "                else:\n",
    "                    m_0_0 += 1\n",
    "            else:\n",
    "                if ground_truth_matrix[i][j] == 1:\n",
    "                    m_1_0 += 1\n",
    "                else:\n",
    "                    m_0_1 += 1\n",
    "\n",
    "\n",
    "    Jaccard = str(m_1_1 / (m_1_1 + m_1_0 + m_0_1))  \n",
    "    Rand = str((m_1_1 + m_0_0) / (m_1_1 + m_0_0 + m_1_0 + m_0_1))\n",
    "    print(\"The RAND coefficient is:\"+str(Rand))\n",
    "    print(\"The JACCARD coefficient is:\"+str(Jaccard))"
   ]
  },
  {
   "cell_type": "code",
   "execution_count": 231,
   "metadata": {},
   "outputs": [
    {
     "name": "stdout",
     "output_type": "stream",
     "text": [
      "Random or specific initialization?\n",
      "Random : enter 1\n",
      "Specific : enter 2\n",
      "2\n",
      "Enter number of centroids\n",
      "4\n",
      "Enter maximum number of iterations\n",
      "10\n",
      "select file\n",
      "cho.txt : enter 1\n",
      "iyer.txt : enter 2\n",
      "new_dataset1.txt : enter 3\n",
      "3\n",
      "2\n",
      "4\n",
      "10\n",
      "3\n"
     ]
    }
   ],
   "source": [
    "type_of_centroid_initialization=int(input(\"Random or specific initialization?\\nRandom : enter 1\\nSpecific : enter 2\\n\"))\n",
    "numberOfClusters=int(input(\"Enter number of centroids\\n\"))\n",
    "max_iter=int(input(\"Enter maximum number of iterations\\n\"))\n",
    "filename=input(\"select file\\ncho.txt : enter 1\\niyer.txt : enter 2\\nnew_dataset1.txt : enter 3\\n\")\n",
    "print(type_of_centroid_initialization)\n",
    "print(numberOfClusters)\n",
    "print(max_iter)\n",
    "print(filename)\n",
    "\n"
   ]
  },
  {
   "cell_type": "markdown",
   "metadata": {},
   "source": [
    "# Filename based on user input"
   ]
  },
  {
   "cell_type": "code",
   "execution_count": 232,
   "metadata": {},
   "outputs": [],
   "source": [
    "if filename=='1':\n",
    "    filename=\"cho.txt\"\n",
    "elif filename=='2':\n",
    "    filename=\"iyer.txt\"\n",
    "elif filename=='3':\n",
    "    filename=\"new_dataset_1.txt\""
   ]
  },
  {
   "cell_type": "markdown",
   "metadata": {},
   "source": [
    "# Read input file and perform k means"
   ]
  },
  {
   "cell_type": "code",
   "execution_count": 233,
   "metadata": {},
   "outputs": [],
   "source": [
    "input_file=np.loadtxt(\"/home/tanmay/Documents/DM/Project2/\"+filename)\n",
    "input_file1=input_file[:,2:]#cho data from 2nd column to last"
   ]
  },
  {
   "cell_type": "markdown",
   "metadata": {},
   "source": [
    "# LIBRARY IMPLEMENTATION"
   ]
  },
  {
   "cell_type": "code",
   "execution_count": 237,
   "metadata": {},
   "outputs": [
    {
     "data": {
      "image/png": "[encoded data removed]",
      "text/plain": [
       "<Figure size 576x576 with 1 Axes>"
      ]
     },
     "metadata": {
      "needs_background": "light"
     },
     "output_type": "display_data"
    }
   ],
   "source": [
    "from sklearn.cluster import KMeans\n",
    "kmeans = KMeans(numberOfClusters, random_state=0).fit(input_file1)#performing kmeans using library method\n",
    "unique_clusters1=Unique_Clusters(kmeans.labels_)#getting unique clusters from library method\n",
    "unique_clusters1\n",
    "kmeans.labels_=kmeans.labels_.reshape((len(input_file1),1))\n",
    "PCA_Plot(kmeans.labels_,input_file1,unique_clusters1,filename)#pca for library method"
   ]
  },
  {
   "cell_type": "markdown",
   "metadata": {},
   "source": [
    "# Scratch Implementation"
   ]
  },
  {
   "cell_type": "code",
   "execution_count": 239,
   "metadata": {},
   "outputs": [
    {
     "name": "stdout",
     "output_type": "stream",
     "text": [
      "Enter 4 number between 0 and 149\n",
      "23\n",
      "120\n",
      "130\n",
      "140\n",
      "[23, 120, 130, 140]\n",
      "error in iteration 1 = 0.32801756181136227\n",
      "error in iteration 2 = 0.05646129430465286\n",
      "error in iteration 3 = 0.055323154946142594\n",
      "error in iteration 4 = 0.026651015099043492\n",
      "error in iteration 5 = 0.005790941827550025\n",
      "error in iteration 6 = 0.0\n"
     ]
    },
    {
     "data": {
      "image/png": "[encoded data removed]",
      "text/plain": [
       "<Figure size 576x576 with 1 Axes>"
      ]
     },
     "metadata": {
      "needs_background": "light"
     },
     "output_type": "display_data"
    }
   ],
   "source": [
    "if type_of_centroid_initialization==1:\n",
    "    rows=random.sample(range(1, len(input_file[:,0])), k=int(numberOfClusters))\n",
    "    print(type(rows))\n",
    "else:\n",
    "    rows=[]\n",
    "    print(\"Enter \"+str(numberOfClusters)+\" number between 0 and \"+str(len(input_file[:,0])-1))\n",
    "    for i in range(int(numberOfClusters)):\n",
    "        rows.append(int(input()))\n",
    "    print(rows)\n",
    "\n",
    "center_of_clusters,clusters,label,x=myKMean(numberOfClusters,input_file,rows,max_iter)#performing kmeans using our method\n",
    "unique_clusters=Unique_Clusters(clusters)#getting the unique clusters from our method\n",
    "unique_clusters\n",
    "clusters=listToList(clusters)\n",
    "if(numberOfClusters>2):\n",
    "    PCA_Plot(clusters,input_file1,unique_clusters,filename)#pca for our method\n",
    "else:plot(clusters,input_file1)"
   ]
  },
  {
   "cell_type": "markdown",
   "metadata": {},
   "source": [
    "# jaccard and rand coefficients for cho.txt"
   ]
  },
  {
   "cell_type": "code",
   "execution_count": 240,
   "metadata": {},
   "outputs": [
    {
     "name": "stdout",
     "output_type": "stream",
     "text": [
      "The RAND coefficient is:0.8673777777777778\n",
      "The JACCARD coefficient is:0.6373359261059796\n"
     ]
    }
   ],
   "source": [
    "JaccardRand(input_file[:,1],clusters)#jaccard and rand coefficient for our method"
   ]
  },
  {
   "cell_type": "code",
   "execution_count": 241,
   "metadata": {},
   "outputs": [
    {
     "name": "stdout",
     "output_type": "stream",
     "text": [
      "The RAND coefficient is:0.8532444444444445\n",
      "The JACCARD coefficient is:0.6054015296367112\n"
     ]
    }
   ],
   "source": [
    "JaccardRand(input_file[:,1],kmeans.labels_)#jaccard and rand coefficient for library method"
   ]
  },
  {
   "cell_type": "code",
   "execution_count": 200,
   "metadata": {},
   "outputs": [],
   "source": [
    "plt.show()"
   ]
  },
  {
   "cell_type": "code",
   "execution_count": null,
   "metadata": {},
   "outputs": [],
   "source": []
  },
  {
   "cell_type": "code",
   "execution_count": null,
   "metadata": {},
   "outputs": [],
   "source": []
  },
  {
   "cell_type": "code",
   "execution_count": null,
   "metadata": {},
   "outputs": [],
   "source": []
  }
 ],
 "metadata": {
  "kernelspec": {
   "display_name": "Python 3",
   "language": "python",
   "name": "python3"
  },
  "language_info": {
   "codemirror_mode": {
    "name": "ipython",
    "version": 3
   },
   "file_extension": ".py",
   "mimetype": "text/x-python",
   "name": "python",
   "nbconvert_exporter": "python",
   "pygments_lexer": "ipython3",
   "version": "3.5.2"
  }
 },
 "nbformat": 4,
 "nbformat_minor": 2
}
