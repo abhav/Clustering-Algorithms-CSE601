{
 "cells": [
  {
   "cell_type": "markdown",
   "metadata": {},
   "source": [
    "Importing Libraries"
   ]
  },
  {
   "cell_type": "code",
   "execution_count": 1,
   "metadata": {},
   "outputs": [],
   "source": [
    "UBIT = 'tanmaypr';\n",
    "import itertools\n",
    "import math\n",
    "import scipy\n",
    "from scipy.spatial import distance\n",
    "from numpy import linalg as LA\n",
    "from copy import deepcopy\n",
    "import numpy as np\n",
    "import random\n",
    "from random import randint\n",
    "np.random.seed(sum([ord(c) for c in UBIT])) ##used for randomly selecting initial cluster centers for kmeans\n",
    "import pandas as pd\n",
    "from matplotlib import pyplot as plt\n",
    "from sklearn.datasets import make_blobs\n",
    "# load decomposition to do PCA analysis with sklearn\n",
    "from sklearn.datasets import load_digits\n",
    "from sklearn.mixture.base import BaseMixture\n",
    "from sklearn.cluster import KMeans\n",
    "from sklearn.decomposition import PCA\n",
    "from sklearn.preprocessing import normalize"
   ]
  },
  {
   "cell_type": "markdown",
   "metadata": {},
   "source": [
    "Function for Similarity Matrix to Generate a Graph out of the data points"
   ]
  },
  {
   "cell_type": "code",
   "execution_count": 2,
   "metadata": {},
   "outputs": [],
   "source": [
    "def SimilarityMAt(data,sigma):\n",
    "    w = len(data.index)\n",
    "    Matrix = [[0 for x in range(w)] for y in range(w)] \n",
    "    for i, point in data.iterrows():\n",
    "        for j, p in data.iterrows():\n",
    "            d = distance.euclidean(point, p)\n",
    "            val = (-1 * (d*d)/(sigma*sigma))\n",
    "            val = math.exp(val);\n",
    "            Matrix[i][j]= val\n",
    "           \n",
    "        \n",
    "    return Matrix"
   ]
  },
  {
   "cell_type": "markdown",
   "metadata": {},
   "source": [
    "Function to Generate a Diagonal Matrix"
   ]
  },
  {
   "cell_type": "code",
   "execution_count": 3,
   "metadata": {},
   "outputs": [],
   "source": [
    "def DiagonalMat(Mat):\n",
    "    w = Mat.shape[1]\n",
    "    Matrix = [[0 for x in range(w)] for y in range(w)] \n",
    "    row = 0\n",
    "    col = 0\n",
    "    sum = 0\n",
    "    for i in Mat:\n",
    "        for j in i:\n",
    "            sum = sum + j\n",
    "        Matrix[row][col]= sum\n",
    "        sum = 0\n",
    "        row+=1\n",
    "        col+=1\n",
    "        \n",
    "    return Matrix"
   ]
  },
  {
   "cell_type": "markdown",
   "metadata": {},
   "source": [
    "Function to calculate euclidean distance"
   ]
  },
  {
   "cell_type": "code",
   "execution_count": 4,
   "metadata": {},
   "outputs": [],
   "source": [
    "def dist(a, b,axis):\n",
    "    return np.linalg.norm(a - b, axis=axis)"
   ]
  },
  {
   "cell_type": "markdown",
   "metadata": {},
   "source": [
    "Function for Kmeans"
   ]
  },
  {
   "cell_type": "code",
   "execution_count": 5,
   "metadata": {},
   "outputs": [],
   "source": [
    "def myKMean(n,z1,rows):\n",
    "    a=0\n",
    "    #z=z1[:,2:]\n",
    "    labels=[]\n",
    "    t = 0\n",
    "    for i in range(len(z1)):\n",
    "        labels.append(t)\n",
    "        t+=1\n",
    "    x=np.array\n",
    "    x=z1\n",
    "    x = (x-x.min())/(x.max()-x.min())\n",
    "    f1=x[:,:1]\n",
    "    f2=x[:,1:2]\n",
    "    f3=x[:,2:]\n",
    "    \n",
    "    number_of_clusters=n\n",
    "    center_of_clusters=np.array\n",
    "    center_of_clusters=x[rows,:]\n",
    "    c_old=np.zeros(center_of_clusters.shape)\n",
    "    error = dist(center_of_clusters, c_old,None)    \n",
    "    distance_from_centroid=[]\n",
    "    \n",
    "    while error!=0:\n",
    "        clusters=[]\n",
    "        for i in range(len(x)):\n",
    "            distance_from_centroid=[]\n",
    "            for j in range(number_of_clusters):\n",
    "                #print(dist(x[i],center_of_clusters[j],axis=None))\n",
    "                distance_from_centroid.append(dist(x[i],center_of_clusters[j],axis=None))\n",
    "            cluster=distance_from_centroid.index(min(distance_from_centroid))\n",
    "            clusters.append(cluster)\n",
    "       \n",
    "        c_old=deepcopy(center_of_clusters)\n",
    "        for i in range(number_of_clusters):\n",
    "            points=[]\n",
    "            for j in range(len(x)):\n",
    "                if clusters[j]==i:\n",
    "                    points.append(x[j,:])\n",
    "                    labels[j]=labels[i]  \n",
    "            center_of_clusters[i] = np.mean(points, axis=0)\n",
    "        \n",
    "        error = dist(center_of_clusters, c_old, None)  \n",
    "        \n",
    "    return center_of_clusters,clusters,labels,x\n",
    "    "
   ]
  },
  {
   "cell_type": "markdown",
   "metadata": {},
   "source": [
    "Function to make list of list to list"
   ]
  },
  {
   "cell_type": "code",
   "execution_count": 6,
   "metadata": {},
   "outputs": [],
   "source": [
    "def listToList(lst): \n",
    "    return list(map(lambda el:[el], lst)) "
   ]
  },
  {
   "cell_type": "markdown",
   "metadata": {},
   "source": [
    "Function to get the unique clusters from the total list of clusters"
   ]
  },
  {
   "cell_type": "code",
   "execution_count": 7,
   "metadata": {},
   "outputs": [],
   "source": [
    "def Unique_Clusters(clusters):\n",
    "    temp=set()\n",
    "    unique_clusters=[]\n",
    "    for i in range(len(clusters)):\n",
    "        if(clusters[i] in temp):\n",
    "            continue\n",
    "        else:\n",
    "            temp.add(clusters[i])\n",
    "            unique_clusters.append(clusters[i])\n",
    "    return unique_clusters"
   ]
  },
  {
   "cell_type": "markdown",
   "metadata": {},
   "source": [
    "Function to perform pca plot for our implementation"
   ]
  },
  {
   "cell_type": "code",
   "execution_count": 8,
   "metadata": {},
   "outputs": [],
   "source": [
    "def PCA_Plot(clusters,input_file):\n",
    "    clusters1=listToList(clusters)\n",
    "    pca_data = PCA(n_components = 2).fit_transform(input_file)\n",
    "    finalDf = np.concatenate((pca_data, clusters1), axis = 1)\n",
    "    finalDf = pd.DataFrame({'Component1': finalDf[:, 0], 'Component2': finalDf[:, 1], 'Target': finalDf[:, 2]})\n",
    "    fig = plt.figure(figsize = (8,8))\n",
    "    ax = fig.add_subplot(1,1,1) \n",
    "    ax.set_xlabel('Principal Component 1', fontsize = 15)\n",
    "    ax.set_ylabel('Principal Component 2', fontsize = 15)\n",
    "    ax.set_title('2 component PCA', fontsize = 20)\n",
    "    targets = unique_clusters\n",
    "    colors=[]\n",
    "    for i in range(len(unique_clusters)):\n",
    "        colors.append('#%06X' % randint(0, 0xFFFFFF))\n",
    "    for target, color in zip(targets,colors):\n",
    "        indicesToKeep = finalDf['Target'] == target\n",
    "        ax.scatter(finalDf.loc[indicesToKeep, 'Component1']\n",
    "                   , finalDf.loc[indicesToKeep, 'Component2']\n",
    "                   , c = color\n",
    "                   , s = 50)\n",
    "    ax.legend(targets)\n",
    "    ax.grid()"
   ]
  },
  {
   "cell_type": "markdown",
   "metadata": {},
   "source": [
    "Function to perform pca plot for library implementation"
   ]
  },
  {
   "cell_type": "code",
   "execution_count": 9,
   "metadata": {},
   "outputs": [],
   "source": [
    "def PCA_PLOT_LIB(clusters,input_file):\n",
    "    assigned_cluster=clusters.reshape((len(input_file),1))\n",
    "    pca_data = PCA(n_components = 2).fit_transform(input_file)\n",
    "    finalDf = np.concatenate((pca_data, assigned_cluster), axis = 1)\n",
    "    finalDf = pd.DataFrame({'Component1': finalDf[:, 0], 'Component2': finalDf[:, 1], 'Target': finalDf[:, 2]})\n",
    "    fig = plt.figure(figsize = (8,8))\n",
    "    ax = fig.add_subplot(1,1,1) \n",
    "    ax.set_xlabel('Principal Component 1', fontsize = 15)\n",
    "    ax.set_ylabel('Principal Component 2', fontsize = 15)\n",
    "    ax.set_title('2 component PCA', fontsize = 20)\n",
    "    targets=unique_clusters1\n",
    "    colors=[]\n",
    "    for i in range(len(unique_clusters)):\n",
    "            colors.append('#%06X' % randint(0, 0xFFFFFF))\n",
    "    for target, color in zip(targets,colors):\n",
    "        indicesToKeep = finalDf['Target'] == target\n",
    "        ax.scatter(finalDf.loc[indicesToKeep, 'Component1']\n",
    "                   , finalDf.loc[indicesToKeep, 'Component2']\n",
    "                   , c = color\n",
    "                   , s = 50)\n",
    "    ax.legend(targets)\n",
    "    ax.grid()"
   ]
  },
  {
   "cell_type": "markdown",
   "metadata": {},
   "source": [
    "Calculating Jaccard and Rand Coefficient"
   ]
  },
  {
   "cell_type": "code",
   "execution_count": 10,
   "metadata": {},
   "outputs": [],
   "source": [
    "def JaccardRand(cluster, assigned_cluster):\n",
    "    ground_truth_matrix = np.zeros((len(assigned_cluster),len(assigned_cluster)))\n",
    "    incidence_matrix = np.zeros((len(assigned_cluster),len(assigned_cluster)))\n",
    "\n",
    "    for i in range(len(assigned_cluster)):\n",
    "        for j in range(len(assigned_cluster)):\n",
    "            ground_truth_matrix[i][j] = 1 if (assigned_cluster[i]==assigned_cluster[j]) else 0\n",
    "            incidence_matrix[i][j] = 1 if (cluster[i]==cluster[j]) else 0\n",
    "            \n",
    "    m_1_1 = m_0_0 = m_1_0 = m_0_1 = 0.0\n",
    "    for i in range(len(ground_truth_matrix)):\n",
    "        for j in range(len(ground_truth_matrix)):\n",
    "            if ground_truth_matrix[i][j] == incidence_matrix[i][j]:\n",
    "                if ground_truth_matrix[i][j] == 1:\n",
    "                    m_1_1 += 1\n",
    "                else:\n",
    "                    m_0_0 += 1\n",
    "            else:\n",
    "                if ground_truth_matrix[i][j] == 1:\n",
    "                    m_1_0 += 1\n",
    "                else:\n",
    "                    m_0_1 += 1\n",
    "\n",
    "\n",
    "    Jaccard = str(m_1_1 / (m_1_1 + m_1_0 + m_0_1))  \n",
    "    Rand = str((m_1_1 + m_0_0) / (m_1_1 + m_0_0 + m_1_0 + m_0_1))\n",
    "    print(\"The RAND coefficient is:\"+str(Rand))\n",
    "    print(\"The JACCARD coefficient is:\"+str(Jaccard))"
   ]
  },
  {
   "cell_type": "code",
   "execution_count": 11,
   "metadata": {},
   "outputs": [],
   "source": [
    "def EigenGap(EigenValues, ev):\n",
    "    diff = 0\n",
    "    idx = 0\n",
    "    for i in range(1,len(ev)):\n",
    "        tmp = abs(EigenValues[ev[i]]-EigenValues[ev[i-1]])\n",
    "        if(tmp > diff):\n",
    "            diff = tmp\n",
    "            idx = ev[i]\n",
    "            \n",
    "    return idx\n",
    "            \n",
    "    "
   ]
  },
  {
   "cell_type": "markdown",
   "metadata": {},
   "source": [
    "Loading Cho Data-set"
   ]
  },
  {
   "cell_type": "code",
   "execution_count": 12,
   "metadata": {},
   "outputs": [],
   "source": [
    "data = pd.read_csv(\"/Users/krishna/Desktop/cho.csv\",header=None)\n",
    "dataRows,dataCols=data.shape\n",
    "data=data.iloc[:,2:]"
   ]
  },
  {
   "cell_type": "code",
   "execution_count": 13,
   "metadata": {},
   "outputs": [],
   "source": [
    "SimilarityMatrix = SimilarityMAt(data,3) # Similarity Matrix\n",
    "Mat = np.array(SimilarityMatrix) \n",
    "#Mat\n",
    "DiagonalMatrix = np.array(DiagonalMat(Mat)) # Diagonal Matrix\n",
    "\n",
    "LaplaceMatrix = DiagonalMatrix - Mat # Laplace Matrix\n",
    "#DiagonalMatrix"
   ]
  },
  {
   "cell_type": "markdown",
   "metadata": {},
   "source": [
    "Eigen Values and Eigen Vectors"
   ]
  },
  {
   "cell_type": "code",
   "execution_count": 14,
   "metadata": {},
   "outputs": [],
   "source": [
    "EigenValues, EigenVectors = LA.eig(LaplaceMatrix)"
   ]
  },
  {
   "cell_type": "markdown",
   "metadata": {},
   "source": [
    "Sorting Eigen values and their corresponding Vectors"
   ]
  },
  {
   "cell_type": "code",
   "execution_count": 15,
   "metadata": {},
   "outputs": [
    {
     "name": "stdout",
     "output_type": "stream",
     "text": [
      "3\n"
     ]
    }
   ],
   "source": [
    "#idx = EigenValues.argsort()[:2]  \n",
    "\n",
    "ev = EigenValues.argsort()\n",
    "EigenGapval = EigenGap(EigenValues, ev)\n",
    "\n",
    "print(EigenGapval)\n",
    "\n",
    "idx = ev[:EigenGapval] \n",
    "EigenValues = EigenValues[idx] \n",
    "EigenVectors = EigenVectors[:,idx]\n"
   ]
  },
  {
   "cell_type": "code",
   "execution_count": 16,
   "metadata": {},
   "outputs": [
    {
     "name": "stdout",
     "output_type": "stream",
     "text": [
      "Random or specific initialization?\n",
      "Random:enter 1\n",
      "Specific:enter 2\n",
      "2\n",
      "Enter number of centroids5\n",
      "select file\n",
      "cho.txt:enter 1\n",
      "iyer.txt:enter 2\n",
      "1\n"
     ]
    }
   ],
   "source": [
    "type_of_centroid_initialization=int(input(\"Random or specific initialization?\\nRandom:enter 1\\nSpecific:enter 2\\n\"))\n",
    "numberOfClusters=int(input(\"Enter number of centroids\"))\n",
    "filename=input(\"select file\\ncho.txt:enter 1\\niyer.txt:enter 2\\n\")"
   ]
  },
  {
   "cell_type": "code",
   "execution_count": 17,
   "metadata": {},
   "outputs": [],
   "source": [
    "if filename=='1':\n",
    "    filename=\"cho.txt\"\n",
    "else:\n",
    "    filename=\"iyer.txt\""
   ]
  },
  {
   "cell_type": "code",
   "execution_count": 18,
   "metadata": {},
   "outputs": [
    {
     "data": {
      "text/plain": [
       "array([[-0.69 , -0.96 , -1.16 , ..., -0.04 ,  0.19 ,  0.82 ],\n",
       "       [-0.21 ,  0.19 ,  0.86 , ..., -1.23 , -0.325,  0.   ],\n",
       "       [-0.3  , -0.56 , -0.29 , ..., -0.12 , -0.16 ,  0.67 ],\n",
       "       ...,\n",
       "       [-3.12 , -4.12 , -3.54 , ...,  1.48 ,  2.06 ,  2.36 ],\n",
       "       [-0.79 , -0.56 , -0.79 , ...,  0.49 ,  0.08 ,  0.15 ],\n",
       "       [-1.16 , -1.39 , -0.96 , ...,  0.493,  1.27 ,  0.87 ]])"
      ]
     },
     "execution_count": 18,
     "metadata": {},
     "output_type": "execute_result"
    }
   ],
   "source": [
    "input_file=np.loadtxt(\"/Users/krishna/Downloads/\"+filename)\n",
    "ipf = input_file[:,2:]\n",
    "input_file1=input_file[:,:2]#cho data from 2nd column to last\n",
    "input_file = EigenVectors\n",
    "\n",
    "ipf"
   ]
  },
  {
   "cell_type": "code",
   "execution_count": 19,
   "metadata": {},
   "outputs": [
    {
     "name": "stdout",
     "output_type": "stream",
     "text": [
      "Enter 5 number between 1 and 386\n",
      "1\n",
      "85\n",
      "217\n",
      "284\n",
      "355\n",
      "[1, 85, 217, 284, 355]\n"
     ]
    }
   ],
   "source": [
    "#input_file=np.loadtxt(\"/Users/krishna/Downloads/\"+filename)\n",
    "# input_file1=input_file[:,:2]#cho data from 2nd column to last\n",
    "# input_file = EigenVectors\n",
    "if type_of_centroid_initialization==1:\n",
    "    rows=random.sample(range(1, len(input_file[:,0])), k=int(numberOfClusters))\n",
    "    print(type(rows))\n",
    "else:\n",
    "    rows=[]\n",
    "    print(\"Enter \"+str(numberOfClusters)+\" number between 1 and \"+str(len(input_file[:,0])))\n",
    "    for i in range(int(numberOfClusters)):\n",
    "        rows.append(int(input()))\n",
    "    print(rows)\n",
    "center_of_clusters,clusters,label,x=myKMean(numberOfClusters,input_file,rows)#performing kmeans using our method"
   ]
  },
  {
   "cell_type": "markdown",
   "metadata": {},
   "source": [
    "Unique clusters from our method"
   ]
  },
  {
   "cell_type": "code",
   "execution_count": 20,
   "metadata": {},
   "outputs": [
    {
     "data": {
      "text/plain": [
       "[1, 2, 3, 4, 0]"
      ]
     },
     "execution_count": 20,
     "metadata": {},
     "output_type": "execute_result"
    }
   ],
   "source": [
    "unique_clusters=Unique_Clusters(clusters) \n",
    "unique_clusters"
   ]
  },
  {
   "cell_type": "markdown",
   "metadata": {},
   "source": [
    "PCA for our method"
   ]
  },
  {
   "cell_type": "code",
   "execution_count": 21,
   "metadata": {},
   "outputs": [
    {
     "data": {
      "image/png": "[encoded data removed]",
      "text/plain": [
       "<Figure size 576x576 with 1 Axes>"
      ]
     },
     "metadata": {},
     "output_type": "display_data"
    }
   ],
   "source": [
    "PCA_Plot(clusters,ipf) "
   ]
  },
  {
   "cell_type": "markdown",
   "metadata": {},
   "source": [
    "Performing kmeans using library method"
   ]
  },
  {
   "cell_type": "code",
   "execution_count": 22,
   "metadata": {},
   "outputs": [
    {
     "data": {
      "text/plain": [
       "[0, 4, 2, 3, 1]"
      ]
     },
     "execution_count": 22,
     "metadata": {},
     "output_type": "execute_result"
    }
   ],
   "source": [
    "from sklearn.cluster import KMeans\n",
    "kmeans = KMeans(numberOfClusters, random_state=0).fit(input_file)#performing kmeans using library method\n",
    "unique_clusters1=Unique_Clusters(kmeans.labels_)#getting unique clusters from library method\n",
    "unique_clusters1"
   ]
  },
  {
   "cell_type": "code",
   "execution_count": 23,
   "metadata": {},
   "outputs": [
    {
     "name": "stdout",
     "output_type": "stream",
     "text": [
      "The RAND coefficient is:0.6024993959569385\n",
      "The JACCARD coefficient is:0.3086566746042863\n"
     ]
    }
   ],
   "source": [
    "JaccardRand(input_file1[:,1],clusters)#jaccard and rand coefficient for our method"
   ]
  },
  {
   "cell_type": "markdown",
   "metadata": {},
   "source": [
    "Loading IYER Data-set"
   ]
  },
  {
   "cell_type": "code",
   "execution_count": 24,
   "metadata": {},
   "outputs": [],
   "source": [
    "data = pd.read_csv(\"/Users/krishna/Desktop/iyer.csv\",header=None)\n",
    "dataRows,dataCols=data.shape\n",
    "data=data.iloc[:,3:]\n",
    "#data"
   ]
  },
  {
   "cell_type": "code",
   "execution_count": 25,
   "metadata": {},
   "outputs": [],
   "source": [
    "SimilarityMatrix = SimilarityMAt(data,5) # Similarity Matrix\n",
    "Mat = np.array(SimilarityMatrix)\n",
    "DiagonalMatrix = np.array(DiagonalMat(Mat)) # Diagonal Matrix\n",
    "LaplaceMatrix = DiagonalMatrix - Mat # Laplace Matrix\n"
   ]
  },
  {
   "cell_type": "code",
   "execution_count": 26,
   "metadata": {},
   "outputs": [
    {
     "name": "stdout",
     "output_type": "stream",
     "text": [
      "94\n"
     ]
    }
   ],
   "source": [
    "EigenValues, EigenVectors = LA.eig(LaplaceMatrix)\n",
    "#Sorting Eigen values and their corresponding Vectors\n",
    "\n",
    "ev = EigenValues.argsort()\n",
    "EigenGapval = EigenGap(EigenValues, ev)\n",
    "\n",
    "print(EigenGapval)\n",
    "\n",
    "idx = ev[:EigenGapval] \n",
    "EigenValues = EigenValues[idx] \n",
    "EigenVectors = EigenVectors[:,idx]"
   ]
  },
  {
   "cell_type": "code",
   "execution_count": 27,
   "metadata": {},
   "outputs": [
    {
     "name": "stdout",
     "output_type": "stream",
     "text": [
      "Random or specific initialization?\n",
      "Random:enter 1\n",
      "Specific:enter 2\n",
      "2\n",
      "Enter number of centroids10\n",
      "select file\n",
      "cho.txt:enter 1\n",
      "iyer.txt:enter 2\n",
      "2\n"
     ]
    }
   ],
   "source": [
    "type_of_centroid_initialization=int(input(\"Random or specific initialization?\\nRandom:enter 1\\nSpecific:enter 2\\n\"))\n",
    "numberOfClusters=int(input(\"Enter number of centroids\"))\n",
    "filename=input(\"select file\\ncho.txt:enter 1\\niyer.txt:enter 2\\n\")"
   ]
  },
  {
   "cell_type": "code",
   "execution_count": 28,
   "metadata": {},
   "outputs": [],
   "source": [
    "if filename=='1':\n",
    "    filename=\"cho.txt\"\n",
    "else:\n",
    "    filename=\"iyer.txt\""
   ]
  },
  {
   "cell_type": "code",
   "execution_count": 29,
   "metadata": {},
   "outputs": [
    {
     "name": "stdout",
     "output_type": "stream",
     "text": [
      "Enter 10 number between 1 and 517\n",
      "2\n",
      "225\n",
      "269\n",
      "302\n",
      "349\n",
      "356\n",
      "398\n",
      "415\n",
      "477\n",
      "514\n",
      "[2, 225, 269, 302, 349, 356, 398, 415, 477, 514]\n"
     ]
    }
   ],
   "source": [
    "input_file=np.loadtxt(\"/Users/krishna/Downloads/\"+filename)\n",
    "ipf = input_file[:,2:]\n",
    "input_file1=input_file[:,:2]#iyer data from 2nd column to last\n",
    "input_file = EigenVectors\n",
    "\n",
    "if type_of_centroid_initialization==1:\n",
    "    rows=random.sample(range(1, len(input_file[:,0])), k=int(numberOfClusters))\n",
    "    print(type(rows))\n",
    "else:\n",
    "    rows=[]\n",
    "    print(\"Enter \"+str(numberOfClusters)+\" number between 1 and \"+str(len(input_file[:,0])))\n",
    "    for i in range(int(numberOfClusters)):\n",
    "        rows.append(int(input()))\n",
    "    print(rows)\n",
    "center_of_clusters,clusters,label,x=myKMean(numberOfClusters,input_file,rows)#performing kmeans using our method"
   ]
  },
  {
   "cell_type": "code",
   "execution_count": 30,
   "metadata": {},
   "outputs": [
    {
     "data": {
      "text/plain": [
       "[1, 8, 3, 2, 4, 5, 7, 6, 0, 9]"
      ]
     },
     "execution_count": 30,
     "metadata": {},
     "output_type": "execute_result"
    }
   ],
   "source": [
    "unique_clusters=Unique_Clusters(clusters)#getting the unique clusters from our method\n",
    "unique_clusters"
   ]
  },
  {
   "cell_type": "code",
   "execution_count": 31,
   "metadata": {},
   "outputs": [
    {
     "data": {
      "image/png": "[encoded data removed]",
      "text/plain": [
       "<Figure size 576x576 with 1 Axes>"
      ]
     },
     "metadata": {},
     "output_type": "display_data"
    }
   ],
   "source": [
    "PCA_Plot(clusters,ipf)#pca for our method"
   ]
  },
  {
   "cell_type": "code",
   "execution_count": 32,
   "metadata": {},
   "outputs": [],
   "source": [
    "#PCA_PLOT_LIB(kmeans.labels_,input_file1)#pca for library method"
   ]
  },
  {
   "cell_type": "code",
   "execution_count": 33,
   "metadata": {},
   "outputs": [
    {
     "name": "stdout",
     "output_type": "stream",
     "text": [
      "The RAND coefficient is:0.44053066156856435\n",
      "The JACCARD coefficient is:0.19759611515037695\n"
     ]
    }
   ],
   "source": [
    "JaccardRand(input_file1[:,1],clusters) #jaccard and rand coefficient for our method"
   ]
  },
  {
   "cell_type": "code",
   "execution_count": null,
   "metadata": {},
   "outputs": [],
   "source": []
  },
  {
   "cell_type": "code",
   "execution_count": null,
   "metadata": {},
   "outputs": [],
   "source": []
  },
  {
   "cell_type": "code",
   "execution_count": null,
   "metadata": {},
   "outputs": [],
   "source": []
  }
 ],
 "metadata": {
  "kernelspec": {
   "display_name": "Python 3",
   "language": "python",
   "name": "python3"
  },
  "language_info": {
   "codemirror_mode": {
    "name": "ipython",
    "version": 3
   },
   "file_extension": ".py",
   "mimetype": "text/x-python",
   "name": "python",
   "nbconvert_exporter": "python",
   "pygments_lexer": "ipython3",
   "version": "3.7.3"
  }
 },
 "nbformat": 4,
 "nbformat_minor": 2
}
